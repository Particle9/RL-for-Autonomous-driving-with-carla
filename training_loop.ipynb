{
 "cells": [
  {
   "cell_type": "code",
   "execution_count": 11,
   "id": "15bb96d9-f5e3-4ce9-8aa2-98697f3231b9",
   "metadata": {},
   "outputs": [],
   "source": [
    "import pandas as pd\n",
    "import os"
   ]
  },
  {
   "cell_type": "code",
   "execution_count": 19,
   "id": "b939c18c-532f-4395-bc00-c1ffaa288512",
   "metadata": {},
   "outputs": [],
   "source": [
    "import torch\n",
    "from torch.utils.data import Dataset, DataLoader\n",
    "import numpy as np\n",
    "from PIL import Image\n",
    "from torchvision import transforms\n",
    "\n",
    "# Custom Dataset Generator with image and LiDAR preprocessing\n",
    "class ImitationLearningDataset(Dataset):\n",
    "    def __init__(self, control_data, lidar_data, camera_data, image_size=(480,640)):\n",
    "        self.control_data = control_data\n",
    "        self.lidar_data = lidar_data\n",
    "        self.camera_data = camera_data\n",
    "\n",
    "        # Define preprocessing transformations for the images\n",
    "        self.image_preprocess = transforms.Compose([\n",
    "            transforms.Resize(image_size),         # Resize image\n",
    "            transforms.ToTensor(),                 # Convert image to tensor\n",
    "            transforms.Normalize(                  # Normalize with ImageNet mean and std\n",
    "                mean=[0.485, 0.456, 0.406],        # Mean values for R, G, B channels\n",
    "                std=[0.229, 0.224, 0.225]          # Standard deviations for R, G, B channels\n",
    "            ),\n",
    "        ])\n",
    "\n",
    "    def __len__(self):\n",
    "        return len(self.control_data)\n",
    "\n",
    "    def preprocess_lidar(self, lidar_path, max_points=2048):\n",
    "        # Load the LiDAR point cloud data\n",
    "        point_cloud = np.load(lidar_path)\n",
    "        # Transpose the dimensions of the point cloud\n",
    "        point_cloud = np.transpose(point_cloud, (1, 0))  # Shape: (3, N)\n",
    "        N = point_cloud.shape[1]\n",
    "    \n",
    "        if N > max_points:\n",
    "            # Randomly sample max_points\n",
    "            indices = np.random.choice(N, max_points, replace=False)\n",
    "            point_cloud = point_cloud[:, indices]\n",
    "        elif N < max_points:\n",
    "            # Pad with zeros\n",
    "            padding = np.zeros((3, max_points - N))\n",
    "            point_cloud = np.concatenate((point_cloud, padding), axis=1)\n",
    "    \n",
    "        # Convert to a PyTorch tensor\n",
    "        lidar_tensor = torch.tensor(point_cloud, dtype=torch.float32)\n",
    "        return lidar_tensor\n",
    "\n",
    "\n",
    "    def __getitem__(self, idx):\n",
    "        # Control data as the base\n",
    "        control = self.control_data.iloc[idx]\n",
    "        control_timestamp = control['timestamp']\n",
    "\n",
    "        # Find the closest previous timestamp in LiDAR and camera data\n",
    "        lidar_past = self.lidar_data[self.lidar_data['timestamp'] <= control_timestamp]\n",
    "        camera_past = self.camera_data[self.camera_data['timestamp'] <= control_timestamp]\n",
    "\n",
    "        # Handle case where no past timestamps are found (default to the first entry)\n",
    "        if lidar_past.empty:\n",
    "            closest_lidar_idx = 0\n",
    "        else:\n",
    "            closest_lidar_idx = (control_timestamp - lidar_past['timestamp']).idxmin()\n",
    "\n",
    "        if camera_past.empty:\n",
    "            closest_camera_idx = 0\n",
    "        else:\n",
    "            closest_camera_idx = (control_timestamp - camera_past['timestamp']).idxmin()\n",
    "\n",
    "        # Load the LiDAR and Image data\n",
    "        lidar_path = self.lidar_data.iloc[closest_lidar_idx]['lidar_file']\n",
    "        image_path = self.camera_data.iloc[closest_camera_idx]['image_file']\n",
    "\n",
    "        # Preprocess image\n",
    "        image = Image.open(image_path).convert('RGB')  # Convert to RGB if needed\n",
    "        image_tensor = self.image_preprocess(image)    # Apply the preprocessing pipeline\n",
    "\n",
    "        # Preprocess LiDAR\n",
    "        lidar_tensor = self.preprocess_lidar(lidar_path)\n",
    "\n",
    "        # Control targets (throttle, brake, steering)\n",
    "        target = torch.tensor([control['throttle'], control['brake'], control['steering']], dtype=torch.float32)\n",
    "\n",
    "        return image_tensor, lidar_tensor, target  # LiDAR already has the batch dimension added\n"
   ]
  },
  {
   "cell_type": "code",
   "execution_count": 20,
   "id": "57f284f8-7e14-4bd2-b28a-5bb1406d5931",
   "metadata": {},
   "outputs": [],
   "source": [
    "control_data = pd.read_csv('carla_data/control_data.csv')\n",
    "lidar_data = pd.read_csv('carla_data/lidar_data.csv')\n",
    "camera_data = pd.read_csv('carla_data/camera_data.csv')\n"
   ]
  },
  {
   "cell_type": "code",
   "execution_count": 21,
   "id": "ea48a98c-e58c-4486-872d-b420640e6c37",
   "metadata": {},
   "outputs": [],
   "source": [
    "from actor import Actor"
   ]
  },
  {
   "cell_type": "code",
   "execution_count": null,
   "id": "35894078-2422-41c1-821e-8a63f49d4e54",
   "metadata": {
    "scrolled": true
   },
   "outputs": [],
   "source": []
  },
  {
   "cell_type": "code",
   "execution_count": 22,
   "id": "ff9ff8a9-33e3-49d2-95e0-ea947907f6d8",
   "metadata": {},
   "outputs": [],
   "source": [
    "from tqdm import tqdm "
   ]
  },
  {
   "cell_type": "code",
   "execution_count": 23,
   "id": "4ce4fd94-2efb-4d1d-b663-75a7d9aeaf79",
   "metadata": {},
   "outputs": [
    {
     "name": "stderr",
     "output_type": "stream",
     "text": [
      "C:\\Users\\Aufa\\AppData\\Local\\Temp\\ipykernel_416\\3650187859.py:1: FutureWarning: You are using `torch.load` with `weights_only=False` (the current default value), which uses the default pickle module implicitly. It is possible to construct malicious pickle data which will execute arbitrary code during unpickling (See https://github.com/pytorch/pytorch/blob/main/SECURITY.md#untrusted-models for more details). In a future release, the default value for `weights_only` will be flipped to `True`. This limits the functions that could be executed during unpickling. Arbitrary objects will no longer be allowed to be loaded via this mode unless they are explicitly allowlisted by the user via `torch.serialization.add_safe_globals`. We recommend you start setting `weights_only=True` for any use case where you don't have full control of the loaded file. Please open an issue on GitHub for any issues related to this experimental feature.\n",
      "  pretrained_weights = torch.load(\n"
     ]
    }
   ],
   "source": [
    "pretrained_weights = torch.load(\n",
    "                        \"./pointnet_torch/log/sem_seg/pointnet2_sem_seg/checkpoints/best_model.pth\"\n",
    ")\n",
    "\n",
    "pretrained_weights_state = pretrained_weights['model_state_dict']\n",
    "intensity_weights = torch.mean(pretrained_weights_state['sa1.mlp_convs.0.weight'][:, 3:-3,:,:], dim=1, keepdim=True)\n",
    "pretrained_weights_state['sa1.mlp_convs.0.weight'].shape\n",
    "partial_weights = torch.cat([pretrained_weights_state['sa1.mlp_convs.0.weight'][:, :3,:,:],\n",
    "                            pretrained_weights_state['sa1.mlp_convs.0.weight'][:, -3:,:,:]], dim=1)\n",
    "pretrained_weights_state['sa1.mlp_convs.0.weight'] = partial_weights\n",
    "partial_weights_state = {k:v for k,v in  pretrained_weights_state.items() if k.startswith('sa')}"
   ]
  },
  {
   "cell_type": "code",
   "execution_count": 24,
   "id": "9aee05ae-765b-493a-9bcb-770ebdab0446",
   "metadata": {},
   "outputs": [
    {
     "name": "stderr",
     "output_type": "stream",
     "text": [
      "C:\\Users\\Aufa\\AppData\\Local\\Programs\\Python\\Python310\\lib\\site-packages\\torchvision\\models\\_utils.py:208: UserWarning: The parameter 'pretrained' is deprecated since 0.13 and may be removed in the future, please use 'weights' instead.\n",
      "  warnings.warn(\n",
      "C:\\Users\\Aufa\\AppData\\Local\\Programs\\Python\\Python310\\lib\\site-packages\\torchvision\\models\\_utils.py:223: UserWarning: Arguments other than a weight enum or `None` for 'weights' are deprecated since 0.13 and may be removed in the future. The current behavior is equivalent to passing `weights=ResNet50_Weights.IMAGENET1K_V1`. You can also use `weights=ResNet50_Weights.DEFAULT` to get the most up-to-date weights.\n",
      "  warnings.warn(msg)\n"
     ]
    }
   ],
   "source": [
    "# Initialize Dataset and DataLoader\n",
    "dataset = ImitationLearningDataset(control_data, lidar_data, camera_data)\n",
    "dataloader = DataLoader(dataset, batch_size=32, shuffle=False)\n",
    "\n",
    "# Initialize model, loss, and optimizer\n",
    "actor = Actor(\n",
    "    image_shape = (480,640),\n",
    "    pointnet_weights = partial_weights_state\n",
    ")\n",
    "criterion = torch.nn.MSELoss()  # Mean Squared Error for regression\n",
    "optimizer = torch.optim.Adam(actor.parameters(), lr=1e-4)"
   ]
  },
  {
   "cell_type": "code",
   "execution_count": 9,
   "id": "c9049f68-3642-484c-8d45-a50f5173a322",
   "metadata": {},
   "outputs": [],
   "source": [
    "# Training loop\n",
    "def train_model(model, dataloader, criterion, optimizer, num_epochs=10, save_dir='models/'):\n",
    "    model.train()\n",
    "    os.makedirs(save_dir, exist_ok=True)\n",
    "    for epoch in range(num_epochs):\n",
    "        print(f\"\\nEpoch [{epoch+1}/{num_epochs}]\")  # Print new line and epoch info\n",
    "        \n",
    "        running_loss = 0.0\n",
    "\n",
    "        # Initialize tqdm progress bar for the current epoch's batches\n",
    "        for images, lidars, targets in tqdm(dataloader, desc=f\"Batch Progress\", leave=True):\n",
    "            # Zero the parameter gradients\n",
    "            optimizer.zero_grad()\n",
    "\n",
    "            # Forward pass through the model\n",
    "            predicted_actions = model(images, lidars)\n",
    "\n",
    "            # Compute loss\n",
    "            loss = criterion(predicted_actions, targets)\n",
    "\n",
    "            # Backward pass and optimization\n",
    "            loss.backward()\n",
    "            optimizer.step()\n",
    "\n",
    "            # Accumulate running loss for tracking\n",
    "            running_loss += loss.item()\n",
    "\n",
    "        # Print the average loss for the epoch\n",
    "        avg_loss = running_loss / len(dataloader)\n",
    "        print(f\"Epoch [{epoch+1}/{num_epochs}], Loss: {avg_loss:.4f}\")\n",
    "\n",
    "        # Save the model at the end of each epoch\n",
    "        model_save_path = f'{save_dir}model_epoch_{epoch+1}.pth'\n",
    "        torch.save({\n",
    "            'epoch': epoch + 1,\n",
    "            'model_state_dict': model.state_dict(),\n",
    "            'optimizer_state_dict': optimizer.state_dict(),\n",
    "            'loss': avg_loss,\n",
    "        }, model_save_path)\n",
    "        print(f\"Model saved at: {model_save_path}\")\n",
    "\n",
    "    print(\"Training complete.\")\n"
   ]
  },
  {
   "cell_type": "code",
   "execution_count": 10,
   "id": "9a5a67e4-c395-40a1-8546-45b335247c5e",
   "metadata": {},
   "outputs": [
    {
     "name": "stdout",
     "output_type": "stream",
     "text": [
      "\n",
      "Epoch [1/20]\n"
     ]
    },
    {
     "name": "stderr",
     "output_type": "stream",
     "text": [
      "Batch Progress: 100%|██████████████████████████████████████████████████████████| 10/10 [03:49<00:00, 22.90s/it]\n"
     ]
    },
    {
     "name": "stdout",
     "output_type": "stream",
     "text": [
      "Epoch [1/20], Loss: 0.1024\n",
      "Model saved at: models/model_epoch_1.pth\n",
      "\n",
      "Epoch [2/20]\n"
     ]
    },
    {
     "name": "stderr",
     "output_type": "stream",
     "text": [
      "Batch Progress: 100%|██████████████████████████████████████████████████████████| 10/10 [03:51<00:00, 23.14s/it]\n"
     ]
    },
    {
     "name": "stdout",
     "output_type": "stream",
     "text": [
      "Epoch [2/20], Loss: 0.0784\n",
      "Model saved at: models/model_epoch_2.pth\n",
      "\n",
      "Epoch [3/20]\n"
     ]
    },
    {
     "name": "stderr",
     "output_type": "stream",
     "text": [
      "Batch Progress: 100%|██████████████████████████████████████████████████████████| 10/10 [03:48<00:00, 22.88s/it]\n"
     ]
    },
    {
     "name": "stdout",
     "output_type": "stream",
     "text": [
      "Epoch [3/20], Loss: 0.0702\n",
      "Model saved at: models/model_epoch_3.pth\n",
      "\n",
      "Epoch [4/20]\n"
     ]
    },
    {
     "name": "stderr",
     "output_type": "stream",
     "text": [
      "Batch Progress: 100%|██████████████████████████████████████████████████████████| 10/10 [03:47<00:00, 22.71s/it]\n"
     ]
    },
    {
     "name": "stdout",
     "output_type": "stream",
     "text": [
      "Epoch [4/20], Loss: 0.0640\n",
      "Model saved at: models/model_epoch_4.pth\n",
      "\n",
      "Epoch [5/20]\n"
     ]
    },
    {
     "name": "stderr",
     "output_type": "stream",
     "text": [
      "Batch Progress: 100%|██████████████████████████████████████████████████████████| 10/10 [03:46<00:00, 22.68s/it]\n"
     ]
    },
    {
     "name": "stdout",
     "output_type": "stream",
     "text": [
      "Epoch [5/20], Loss: 0.0634\n",
      "Model saved at: models/model_epoch_5.pth\n",
      "\n",
      "Epoch [6/20]\n"
     ]
    },
    {
     "name": "stderr",
     "output_type": "stream",
     "text": [
      "Batch Progress: 100%|██████████████████████████████████████████████████████████| 10/10 [03:46<00:00, 22.68s/it]\n"
     ]
    },
    {
     "name": "stdout",
     "output_type": "stream",
     "text": [
      "Epoch [6/20], Loss: 0.0649\n",
      "Model saved at: models/model_epoch_6.pth\n",
      "\n",
      "Epoch [7/20]\n"
     ]
    },
    {
     "name": "stderr",
     "output_type": "stream",
     "text": [
      "Batch Progress: 100%|██████████████████████████████████████████████████████████| 10/10 [03:46<00:00, 22.66s/it]\n"
     ]
    },
    {
     "name": "stdout",
     "output_type": "stream",
     "text": [
      "Epoch [7/20], Loss: 0.0645\n",
      "Model saved at: models/model_epoch_7.pth\n",
      "\n",
      "Epoch [8/20]\n"
     ]
    },
    {
     "name": "stderr",
     "output_type": "stream",
     "text": [
      "Batch Progress: 100%|██████████████████████████████████████████████████████████| 10/10 [03:47<00:00, 22.78s/it]\n"
     ]
    },
    {
     "name": "stdout",
     "output_type": "stream",
     "text": [
      "Epoch [8/20], Loss: 0.0622\n",
      "Model saved at: models/model_epoch_8.pth\n",
      "\n",
      "Epoch [9/20]\n"
     ]
    },
    {
     "name": "stderr",
     "output_type": "stream",
     "text": [
      "Batch Progress: 100%|██████████████████████████████████████████████████████████| 10/10 [03:47<00:00, 22.73s/it]\n"
     ]
    },
    {
     "name": "stdout",
     "output_type": "stream",
     "text": [
      "Epoch [9/20], Loss: 0.0619\n",
      "Model saved at: models/model_epoch_9.pth\n",
      "\n",
      "Epoch [10/20]\n"
     ]
    },
    {
     "name": "stderr",
     "output_type": "stream",
     "text": [
      "Batch Progress: 100%|██████████████████████████████████████████████████████████| 10/10 [03:46<00:00, 22.68s/it]\n"
     ]
    },
    {
     "name": "stdout",
     "output_type": "stream",
     "text": [
      "Epoch [10/20], Loss: 0.0616\n",
      "Model saved at: models/model_epoch_10.pth\n",
      "\n",
      "Epoch [11/20]\n"
     ]
    },
    {
     "name": "stderr",
     "output_type": "stream",
     "text": [
      "Batch Progress: 100%|██████████████████████████████████████████████████████████| 10/10 [03:46<00:00, 22.68s/it]\n"
     ]
    },
    {
     "name": "stdout",
     "output_type": "stream",
     "text": [
      "Epoch [11/20], Loss: 0.0626\n",
      "Model saved at: models/model_epoch_11.pth\n",
      "\n",
      "Epoch [12/20]\n"
     ]
    },
    {
     "name": "stderr",
     "output_type": "stream",
     "text": [
      "Batch Progress: 100%|██████████████████████████████████████████████████████████| 10/10 [03:46<00:00, 22.67s/it]\n"
     ]
    },
    {
     "name": "stdout",
     "output_type": "stream",
     "text": [
      "Epoch [12/20], Loss: 0.0583\n",
      "Model saved at: models/model_epoch_12.pth\n",
      "\n",
      "Epoch [13/20]\n"
     ]
    },
    {
     "name": "stderr",
     "output_type": "stream",
     "text": [
      "Batch Progress: 100%|██████████████████████████████████████████████████████████| 10/10 [03:47<00:00, 22.76s/it]\n"
     ]
    },
    {
     "name": "stdout",
     "output_type": "stream",
     "text": [
      "Epoch [13/20], Loss: 0.0587\n",
      "Model saved at: models/model_epoch_13.pth\n",
      "\n",
      "Epoch [14/20]\n"
     ]
    },
    {
     "name": "stderr",
     "output_type": "stream",
     "text": [
      "Batch Progress: 100%|██████████████████████████████████████████████████████████| 10/10 [03:46<00:00, 22.64s/it]\n"
     ]
    },
    {
     "name": "stdout",
     "output_type": "stream",
     "text": [
      "Epoch [14/20], Loss: 0.0593\n",
      "Model saved at: models/model_epoch_14.pth\n",
      "\n",
      "Epoch [15/20]\n"
     ]
    },
    {
     "name": "stderr",
     "output_type": "stream",
     "text": [
      "Batch Progress: 100%|██████████████████████████████████████████████████████████| 10/10 [03:46<00:00, 22.65s/it]\n"
     ]
    },
    {
     "name": "stdout",
     "output_type": "stream",
     "text": [
      "Epoch [15/20], Loss: 0.0575\n",
      "Model saved at: models/model_epoch_15.pth\n",
      "\n",
      "Epoch [16/20]\n"
     ]
    },
    {
     "name": "stderr",
     "output_type": "stream",
     "text": [
      "Batch Progress: 100%|██████████████████████████████████████████████████████████| 10/10 [03:46<00:00, 22.65s/it]\n"
     ]
    },
    {
     "name": "stdout",
     "output_type": "stream",
     "text": [
      "Epoch [16/20], Loss: 0.0593\n",
      "Model saved at: models/model_epoch_16.pth\n",
      "\n",
      "Epoch [17/20]\n"
     ]
    },
    {
     "name": "stderr",
     "output_type": "stream",
     "text": [
      "Batch Progress: 100%|██████████████████████████████████████████████████████████| 10/10 [03:46<00:00, 22.65s/it]\n"
     ]
    },
    {
     "name": "stdout",
     "output_type": "stream",
     "text": [
      "Epoch [17/20], Loss: 0.0591\n",
      "Model saved at: models/model_epoch_17.pth\n",
      "\n",
      "Epoch [18/20]\n"
     ]
    },
    {
     "name": "stderr",
     "output_type": "stream",
     "text": [
      "Batch Progress: 100%|██████████████████████████████████████████████████████████| 10/10 [03:45<00:00, 22.59s/it]\n"
     ]
    },
    {
     "name": "stdout",
     "output_type": "stream",
     "text": [
      "Epoch [18/20], Loss: 0.0578\n",
      "Model saved at: models/model_epoch_18.pth\n",
      "\n",
      "Epoch [19/20]\n"
     ]
    },
    {
     "name": "stderr",
     "output_type": "stream",
     "text": [
      "Batch Progress: 100%|██████████████████████████████████████████████████████████| 10/10 [03:44<00:00, 22.46s/it]\n"
     ]
    },
    {
     "name": "stdout",
     "output_type": "stream",
     "text": [
      "Epoch [19/20], Loss: 0.0573\n",
      "Model saved at: models/model_epoch_19.pth\n",
      "\n",
      "Epoch [20/20]\n"
     ]
    },
    {
     "name": "stderr",
     "output_type": "stream",
     "text": [
      "Batch Progress: 100%|██████████████████████████████████████████████████████████| 10/10 [03:46<00:00, 22.60s/it]\n"
     ]
    },
    {
     "name": "stdout",
     "output_type": "stream",
     "text": [
      "Epoch [20/20], Loss: 0.0582\n",
      "Model saved at: models/model_epoch_20.pth\n",
      "Training complete.\n"
     ]
    }
   ],
   "source": [
    "\n",
    "# Start training\n",
    "train_model(actor, dataloader, criterion, optimizer, num_epochs=20)"
   ]
  },
  {
   "cell_type": "code",
   "execution_count": 29,
   "id": "c12bf134-40e2-411d-8b9d-cefc0464298e",
   "metadata": {},
   "outputs": [
    {
     "data": {
      "text/plain": [
       "tensor(0.0245, grad_fn=<MseLossBackward0>)"
      ]
     },
     "execution_count": 29,
     "metadata": {},
     "output_type": "execute_result"
    }
   ],
   "source": [
    "save_dir = 'checkpoint/'\n",
    "model_save_path = f'{save_dir}model_epoch_{1}.pth'"
   ]
  },
  {
   "cell_type": "code",
   "execution_count": 35,
   "id": "1e8d71d1-6e49-4ec9-8cf7-7930ab9954ca",
   "metadata": {
    "scrolled": true
   },
   "outputs": [
    {
     "name": "stderr",
     "output_type": "stream",
     "text": [
      "C:\\Users\\Aufa\\AppData\\Local\\Temp\\ipykernel_3488\\1481851779.py:1: FutureWarning: You are using `torch.load` with `weights_only=False` (the current default value), which uses the default pickle module implicitly. It is possible to construct malicious pickle data which will execute arbitrary code during unpickling (See https://github.com/pytorch/pytorch/blob/main/SECURITY.md#untrusted-models for more details). In a future release, the default value for `weights_only` will be flipped to `True`. This limits the functions that could be executed during unpickling. Arbitrary objects will no longer be allowed to be loaded via this mode unless they are explicitly allowlisted by the user via `torch.serialization.add_safe_globals`. We recommend you start setting `weights_only=True` for any use case where you don't have full control of the loaded file. Please open an issue on GitHub for any issues related to this experimental feature.\n",
      "  mp = torch.load(model_save_path)\n"
     ]
    }
   ],
   "source": [
    "model_save_path = 'models/imitation_model.pth'\n",
    "\n",
    "mp = torch.load(model_save_path)"
   ]
  },
  {
   "cell_type": "code",
   "execution_count": 36,
   "id": "77744649-d7b3-4152-aa88-4de7023bc225",
   "metadata": {},
   "outputs": [],
   "source": [
    "mp_state = mp['model_state_dict']"
   ]
  },
  {
   "cell_type": "code",
   "execution_count": 10,
   "id": "549a86e8-7175-4c3c-ab1b-e193a0b9a96c",
   "metadata": {},
   "outputs": [],
   "source": [
    "actor = Actor()\n",
    "actor.load_state_dict(mp_state)"
   ]
  },
  {
   "cell_type": "code",
   "execution_count": 27,
   "id": "d9c9c67a-7812-4a42-b253-5934e86502eb",
   "metadata": {},
   "outputs": [
    {
     "name": "stderr",
     "output_type": "stream",
     "text": [
      "C:\\Users\\Aufa\\AppData\\Local\\Programs\\Python\\Python310\\lib\\site-packages\\torch\\nn\\modules\\loss.py:538: UserWarning: Using a target size (torch.Size([3])) that is different to the input size (torch.Size([26, 3])). This will likely lead to incorrect results due to broadcasting. Please ensure they have the same size.\n",
      "  return F.mse_loss(input, target, reduction=self.reduction)\n"
     ]
    }
   ],
   "source": [
    "# Test saved Model\n",
    "dataset = ImitationLearningDataset(control_data, lidar_data, camera_data)\n",
    "dataloader = DataLoader(dataset, batch_size=1, shuffle=True)\n",
    "\n",
    "\n",
    "for images, lidars, targets in  dataloader:\n",
    "    images = images[0]\n",
    "    lidars = lidars[0]\n",
    "    targets = targets[0]\n",
    "    predicted_actions = actor(images,lidars)\n",
    "    loss = criterion(predicted_actions, targets)\n",
    "    break"
   ]
  },
  {
   "cell_type": "code",
   "execution_count": null,
   "id": "26149943-06ec-4a20-a563-ed0f28721b6f",
   "metadata": {},
   "outputs": [],
   "source": [
    "predicted_actions"
   ]
  }
 ],
 "metadata": {
  "kernelspec": {
   "display_name": "Python 3 (ipykernel)",
   "language": "python",
   "name": "python3"
  },
  "language_info": {
   "codemirror_mode": {
    "name": "ipython",
    "version": 3
   },
   "file_extension": ".py",
   "mimetype": "text/x-python",
   "name": "python",
   "nbconvert_exporter": "python",
   "pygments_lexer": "ipython3",
   "version": "3.10.0"
  }
 },
 "nbformat": 4,
 "nbformat_minor": 5
}
